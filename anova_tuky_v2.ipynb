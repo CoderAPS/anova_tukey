{
 "cells": [
  {
   "cell_type": "code",
   "execution_count": 2,
   "id": "fea206f4-c51f-49c6-9528-271f3d13add3",
   "metadata": {},
   "outputs": [],
   "source": [
    "# import numpy and pandas libraries\n",
    "import numpy as np\n",
    "import pandas as pd\n",
    "\n",
    "# import statsmodels sm,ols and pairwise_tukeyhsd\n",
    "import statsmodels.api as sm\n",
    "from statsmodels.formula.api import ols\n",
    "from statsmodels.stats.multicomp import pairwise_tukeyhsd"
   ]
  },
  {
   "cell_type": "code",
   "execution_count": 8,
   "id": "79d19cba-a25a-4ebc-8ee3-e64d10301133",
   "metadata": {},
   "outputs": [
    {
     "name": "stdout",
     "output_type": "stream",
     "text": [
      "bakery_a: [22.7 29.  26.8 21.5 24.3 31.  18.7 24.7]\n",
      "bakery_b: [28.8 22.4 23.  24.7 29.5 23.1 23.7 23.7]\n",
      "bakery_c: [30.2 30.2 29.  28.4 28.7 29.5 27.1 29.2]\n"
     ]
    }
   ],
   "source": [
    "# save the state of randomness\n",
    "np.random.seed(123)\n",
    "\n",
    "# generate an array of eight made-up cookie weights for each bakery from random \n",
    "# Gaussian distribution with specified means and standard \n",
    "# deviations (note, assume means and standard deviation are for samples)\n",
    "bakery_a = np.random.normal(26,3,8).round(1)\n",
    "bakery_b = np.random.normal(25,3,8).round(1)\n",
    "bakery_c = np.random.normal(28,1,8).round(1)\n",
    "\n",
    "# print out the individual cookie weights for each bakery\n",
    "print(f'bakery_a: {bakery_a}\\nbakery_b: {bakery_b}\\nbakery_c: {bakery_c}')"
   ]
  },
  {
   "cell_type": "code",
   "execution_count": 18,
   "id": "c7ad053e-0cec-4927-b2ec-e87a6bdf5200",
   "metadata": {},
   "outputs": [],
   "source": [
    "# incorporate bakery_id and cookie weights into pandas DataFrame\n",
    "# where cookies arrays are sequentially concatenated into a single array\n",
    "bakeries_df = pd.DataFrame({'bakery_id' : ['a']*8 + ['b']*8 + ['c']*8,\n",
    "                             'weights_g' : np.concatenate((bakery_a,\n",
    "                                                          bakery_b,\n",
    "                                                          bakery_c),axis=0)})\n"
   ]
  },
  {
   "cell_type": "code",
   "execution_count": 20,
   "id": "88b28548-e565-4a38-bcf0-4f596588adaf",
   "metadata": {},
   "outputs": [
    {
     "name": "stdout",
     "output_type": "stream",
     "text": [
      "             df      sum_sq    mean_sq         F    PR(>F)\n",
      "bakery_id   2.0   93.523333  46.761667  5.694829  0.010569\n",
      "Residual   21.0  172.436250   8.211250       NaN       NaN\n"
     ]
    }
   ],
   "source": [
    "# create a model with statsmodels ols and fit data into the model\n",
    "model = ols(formula='weights_g ~ bakery_id', data=bakeries_df).fit()\n",
    "\n",
    "# call statsmodels stats.anova_lm and pass model as an argument to perform ANOVA\n",
    "anova_result = sm.stats.anova_lm(model, type=2)\n",
    "\n",
    "print(anova_result)"
   ]
  },
  {
   "cell_type": "code",
   "execution_count": 28,
   "id": "07cc8bf9-5815-4c35-a324-0893eba41147",
   "metadata": {},
   "outputs": [
    {
     "name": "stdout",
     "output_type": "stream",
     "text": [
      "Multiple Comparison of Means - Tukey HSD, FWER=0.05\n",
      "===================================================\n",
      "group1 group2 meandiff p-adj   lower  upper  reject\n",
      "---------------------------------------------------\n",
      "     a      b    0.025    0.9 -3.5854 3.6354  False\n",
      "     a      c      4.2 0.0208  0.5896 7.8104   True\n",
      "     b      c    4.175 0.0217  0.5646 7.7854   True\n",
      "---------------------------------------------------\n"
     ]
    }
   ],
   "source": [
    "# call statsmodels' pairwise_tukeyhsd to perform multiple comparisons test\n",
    "# assign bakeries_df weights_g and bakery_id columns and set alpha to 0.05\n",
    "multiple_comp_result = pairwise_tukeyhsd(endog=bakeries_df['weights_g'],\n",
    "                                         groups=bakeries_df['bakery_id'],\n",
    "                                        alpha=0.05)\n",
    "print(multiple_comp_result.summary())"
   ]
  },
  {
   "cell_type": "code",
   "execution_count": null,
   "id": "00dbb71b-d3d3-438f-957b-b9e45237b219",
   "metadata": {},
   "outputs": [],
   "source": []
  }
 ],
 "metadata": {
  "kernelspec": {
   "display_name": "Python (learn-env)",
   "language": "python",
   "name": "learn-env"
  },
  "language_info": {
   "codemirror_mode": {
    "name": "ipython",
    "version": 3
   },
   "file_extension": ".py",
   "mimetype": "text/x-python",
   "name": "python",
   "nbconvert_exporter": "python",
   "pygments_lexer": "ipython3",
   "version": "3.8.5"
  }
 },
 "nbformat": 4,
 "nbformat_minor": 5
}
